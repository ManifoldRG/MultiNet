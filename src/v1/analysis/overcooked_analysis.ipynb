{
 "cells": [
  {
   "cell_type": "code",
   "execution_count": 1,
   "id": "cddbf3c4",
   "metadata": {},
   "outputs": [],
   "source": [
    "import matplotlib.pyplot as plt\n",
    "import sys, os, json\n",
    "import seaborn as sns\n",
    "import numpy as np\n",
    "\n",
    "from sklearn.metrics import confusion_matrix, matthews_corrcoef\n",
    "from pathlib import Path\n",
    "\n",
    "cur_dir = Path(os.path.abspath(\"\")).parent\n",
    "project_root = cur_dir.parent.parent\n",
    "sys.path.append(str(project_root))\n",
    "\n",
    "from definitions.overcooked import OverCookedDefinitions\n",
    "from src.eval_utils import get_precision_per_class, get_recall_per_class, get_f1_per_class, get_macro_precision, get_macro_recall, get_macro_f1, calculate_tp_fp_fn_counts, get_micro_precision_from_counts, get_micro_recall_from_counts, get_micro_f1\n"
   ]
  },
  {
   "cell_type": "code",
   "execution_count": 4,
   "id": "f0359b6f",
   "metadata": {},
   "outputs": [],
   "source": [
    "def get_classwise_metrics(preds, gt, num_classes):\n",
    "    \"\"\"Add class-wise metrics to the results dictionary.\n",
    "    \n",
    "    Args:\n",
    "        results (dict): Dictionary containing model results\n",
    "        model (str): Model name\n",
    "    \"\"\"\n",
    "    precisions = get_precision_per_class(preds, gt, list(range(num_classes)))\n",
    "    recalls = get_recall_per_class(preds, gt, list(range(num_classes)))\n",
    "    f1s = get_f1_per_class(precisions, recalls)\n",
    "    return precisions, recalls, f1s"
   ]
  },
  {
   "cell_type": "code",
   "execution_count": 6,
   "id": "2bec9130",
   "metadata": {},
   "outputs": [],
   "source": [
    "# confusion matrix\n",
    "def get_confusion_matrix(all_gt, all_preds, num_classes):\n",
    "    labels = list(range(num_classes))\n",
    "    mcc = matthews_corrcoef(all_gt, all_preds)\n",
    "    return confusion_matrix(all_gt, all_preds, labels=labels), mcc, labels"
   ]
  },
  {
   "cell_type": "code",
   "execution_count": null,
   "id": "2bcf297d",
   "metadata": {},
   "outputs": [],
   "source": [
    "def get_individual_player_label(joint_action_label):\n",
    "    individual_action_space = OverCookedDefinitions.INDIVIDUAL_ACTION_SPACE\n",
    "    discrete_to_joint = OverCookedDefinitions.PLAYER_ACTION_SPACE_TUPLES\n",
    "    \n",
    "    player0_action, player1_action = discrete_to_joint.get(joint_action_label, (None, None))\n",
    "    player0_label, player1_label = \\\n",
    "        individual_action_space.get(player0_action, -1), individual_action_space.get(player1_action, -1)\n",
    "    return player0_label, player1_label\n",
    "\n",
    "def extract_per_player_metrics(preds, gt):\n",
    "    player0_preds = []\n",
    "    player1_preds = []\n",
    "    player0_gts = []\n",
    "    player1_gts = []\n",
    "    for pred in preds:\n",
    "        player0_pred, player1_pred = get_individual_player_label(pred)\n",
    "        player0_preds.append(player0_pred)\n",
    "        player1_preds.append(player1_pred)\n",
    "    for gt_action in gt:\n",
    "        player0_gt, player1_gt = get_individual_player_label(gt_action)\n",
    "        player0_gts.append(player0_gt)\n",
    "        player1_gts.append(player1_gt)\n",
    "    return player0_preds, player1_preds, player0_gts, player1_gts"
   ]
  },
  {
   "cell_type": "code",
   "execution_count": 8,
   "id": "e11fc0d6",
   "metadata": {},
   "outputs": [],
   "source": [
    "def plot_and_save_confusion_matrix(cm, model, labels, mcc, title, fig_size=(24, 20), cell_font_size=12):\n",
    "    # Plot union confusion matrix\n",
    "    plt.figure(figsize=fig_size)\n",
    "    # Row normalize the union confusion matrix\n",
    "    row_sums = cm.sum(axis=1)[:, np.newaxis]\n",
    "    # Handle zero-sum rows to avoid division by zero\n",
    "    row_sums[row_sums == 0] = 1 \n",
    "    \n",
    "    cm_normalized = cm.astype('float') / row_sums\n",
    "    sns.heatmap(cm_normalized, annot=True, fmt='.2f', cmap='YlOrRd',\n",
    "                xticklabels=[str(a) for a in labels],\n",
    "                yticklabels=[str(a) for a in labels],\n",
    "                annot_kws={'size': cell_font_size})\n",
    "    plt.title(f'{title} for {model}\\nMCC: {mcc:.3f}', fontsize=20)\n",
    "    plt.xlabel('Predicted', fontsize=20)\n",
    "    plt.ylabel('True', fontsize=20)\n",
    "    plt.xticks(fontsize=20)\n",
    "    plt.yticks(fontsize=20)\n",
    "    plt.tight_layout()\n",
    "\n",
    "    filename = f'{title.replace(\" \", \"_\")}_{model}.png'\n",
    "    output_path = os.path.abspath(os.path.join(\"plots\", model, filename))\n",
    "    os.makedirs(os.path.dirname(output_path), exist_ok=True)\n",
    "    plt.savefig(output_path)\n",
    "    plt.close()"
   ]
  },
  {
   "cell_type": "code",
   "execution_count": 14,
   "id": "ae2ed4d3",
   "metadata": {},
   "outputs": [],
   "source": [
    "def plot_and_save_joint_action_heatmaps(model, class_precisions, class_recalls, class_f1s):\n",
    "    # Get action order\n",
    "    actions = list(OverCookedDefinitions.INDIVIDUAL_ACTION_SPACE.keys())\n",
    "    action_to_index = {action: idx for idx, action in enumerate(actions)}\n",
    "\n",
    "    # 6x6 heatmap matrix (rows: Player 1, cols: Player 0)\n",
    "    num_actions = len(actions)\n",
    "    heatmap_matrix = np.zeros((num_actions, num_actions))\n",
    "\n",
    "    # Get class-wise metrics for joint action ids 0..35\n",
    "    for label, metric_results in [('F1-Score', class_f1s), ('Recall', class_recalls), ('Precision', class_precisions)]:\n",
    "\n",
    "        # Map joint action id -> (Player0Action, Player1Action)\n",
    "        joint_mapping = OverCookedDefinitions.PLAYER_ACTION_SPACE_TUPLES\n",
    "\n",
    "        for joint_id, (p0_action, p1_action) in joint_mapping.items():\n",
    "            # Convert to matrix indices (row = Player 1, col = Player 0)\n",
    "            row_idx = action_to_index[p1_action]\n",
    "            col_idx = action_to_index[p0_action]\n",
    "            metric_value = metric_results.get(str(joint_id), metric_results.get(int(joint_id), 0.0))\n",
    "            heatmap_matrix[row_idx, col_idx] = metric_value\n",
    "\n",
    "        title = f\"Overcooked Joint Action {label} Heatmap {model}\"\n",
    "        filename = f\"overcooked_joint_action_{label}_heatmap_{model}.png\"\n",
    "        # Plot heatmap\n",
    "        plt.figure(figsize=(12, 10))\n",
    "        sns.heatmap(\n",
    "            heatmap_matrix,\n",
    "            cmap='YlOrRd',\n",
    "            annot=True,\n",
    "            fmt='.2f',\n",
    "            xticklabels=actions,\n",
    "            yticklabels=actions,\n",
    "            cbar_kws={'label': label}\n",
    "        )\n",
    "        plt.title(title, fontsize=18)\n",
    "        plt.xlabel('Player 0 Action', fontsize=14)\n",
    "        plt.ylabel('Player 1 Action', fontsize=14)\n",
    "        plt.xticks(rotation=45, ha='right')\n",
    "        plt.yticks(rotation=0)\n",
    "        plt.tight_layout()\n",
    "\n",
    "        # Save and close\n",
    "        output_path = os.path.abspath(os.path.join(\"plots\", model, filename))\n",
    "        os.makedirs(os.path.dirname(output_path), exist_ok=True)\n",
    "        plt.savefig(output_path, dpi=300)\n",
    "        plt.close()"
   ]
  },
  {
   "cell_type": "markdown",
   "id": "e7c57abc",
   "metadata": {},
   "source": [
    "# GPT 5"
   ]
  },
  {
   "cell_type": "code",
   "execution_count": 2,
   "id": "2fb49b54",
   "metadata": {},
   "outputs": [],
   "source": [
    "results_dir = f\"{project_root}/src/v1/results/genesis/gpt_5/low_reasoning/overcooked_ai/\"\n",
    "results_file = \"overcooked_ai_results.json\""
   ]
  },
  {
   "cell_type": "code",
   "execution_count": 3,
   "id": "416dbad7",
   "metadata": {},
   "outputs": [],
   "source": [
    "with open(Path(results_dir) / results_file, 'r') as f:\n",
    "    results =json.load(f)"
   ]
  },
  {
   "cell_type": "code",
   "execution_count": 5,
   "id": "dbe1c29f",
   "metadata": {},
   "outputs": [],
   "source": [
    "all_preds = results[\"overcooked_ai\"][\"preds\"]\n",
    "all_gt = results[\"overcooked_ai\"][\"gt_actions\"]\n"
   ]
  },
  {
   "cell_type": "code",
   "execution_count": 7,
   "id": "46bf766c",
   "metadata": {},
   "outputs": [],
   "source": [
    "full_cm, mcc, labels = get_confusion_matrix(all_gt, all_preds, 36)\n",
    "model = 'gpt5'\n",
    "plot_and_save_confusion_matrix(full_cm, model, labels, mcc, title=\"Overcooked Confusion Matrix\")"
   ]
  },
  {
   "cell_type": "code",
   "execution_count": 9,
   "id": "0defff0f",
   "metadata": {},
   "outputs": [],
   "source": [
    "player0_preds, player1_preds, player0_gts, player1_gts = extract_per_player_metrics(all_preds, all_gt)"
   ]
  },
  {
   "cell_type": "code",
   "execution_count": 10,
   "id": "9143d9eb",
   "metadata": {},
   "outputs": [],
   "source": [
    "player0_cm, player0_mcc, player0_labels = get_confusion_matrix(player0_gts, player0_preds, 6)\n",
    "model = 'gpt5'\n",
    "plot_and_save_confusion_matrix(player0_cm, model, player0_labels, player0_mcc, title=\"Player 0 Overcooked Confusion Matrix\", fig_size=(12, 10))\n"
   ]
  },
  {
   "cell_type": "code",
   "execution_count": 12,
   "id": "894c334c",
   "metadata": {},
   "outputs": [],
   "source": [
    "player1_cm, player1_mcc, player1_labels = get_confusion_matrix(player1_gts, player1_preds, 6)\n",
    "model = 'gpt5'\n",
    "plot_and_save_confusion_matrix(player1_cm, model, player1_labels, player1_mcc, title=\"Player 1 Overcooked Confusion Matrix\", fig_size=(12, 10))\n"
   ]
  },
  {
   "cell_type": "code",
   "execution_count": 13,
   "id": "e2d29a18",
   "metadata": {},
   "outputs": [],
   "source": [
    "all_individual_gts = player0_gts + player1_gts\n",
    "all_individual_preds = player0_preds + player1_preds\n",
    "all_individual_cm, all_individual_mcc, all_individual_labels = get_confusion_matrix(all_individual_gts, all_individual_preds, 6)\n",
    "model = 'gpt5'\n",
    "plot_and_save_confusion_matrix(all_individual_cm, model, all_individual_labels, all_individual_mcc, title=\"Individual Actions Overcooked Confusion Matrix\", fig_size=(12, 10))"
   ]
  },
  {
   "cell_type": "code",
   "execution_count": 16,
   "id": "306ce1fe",
   "metadata": {},
   "outputs": [],
   "source": [
    "model = 'gpt5'\n",
    "plot_and_save_joint_action_heatmaps(model, results[\"overcooked_ai\"][\"class_precisions\"], results[\"overcooked_ai\"][\"class_recalls\"], results[\"overcooked_ai\"][\"class_f1s\"])"
   ]
  },
  {
   "cell_type": "markdown",
   "id": "040b01f5",
   "metadata": {},
   "source": [
    "# Pi0"
   ]
  },
  {
   "cell_type": "code",
   "execution_count": 5,
   "id": "fe950ace",
   "metadata": {},
   "outputs": [],
   "source": [
    "results_dir = f\"{project_root}/src/v1/results/pi0\"\n",
    "results_file = \"pi0_base_overcooked_results.json\"\n",
    "with open(Path(results_dir) / results_file, 'r') as f:\n",
    "    results = json.load(f)"
   ]
  },
  {
   "cell_type": "code",
   "execution_count": null,
   "id": "ff54597b",
   "metadata": {},
   "outputs": [],
   "source": [
    "all_preds = results[\"overcooked\"][\"all_preds\"]\n",
    "all_gt = results[\"overcooked\"][\"all_gt\"]"
   ]
  },
  {
   "cell_type": "code",
   "execution_count": null,
   "id": "cae2d42d",
   "metadata": {},
   "outputs": [],
   "source": [
    "# Create full confusion matrix for pi0\n",
    "model = 'pi0'\n",
    "full_cm, mcc, labels = get_confusion_matrix(all_gt, all_preds, 36)\n",
    "plot_and_save_confusion_matrix(full_cm, model, labels, mcc, title=\"Overcooked Confusion Matrix\")\n",
    "player0_cm, player0_mcc, player0_labels = get_confusion_matrix(player0_gts, player0_preds, 6)\n",
    "plot_and_save_confusion_matrix(player0_cm, model, player0_labels, player0_mcc, title=\"Player 0 Overcooked Confusion Matrix\", fig_size=(12, 10))\n",
    "player1_cm, player1_mcc, player1_labels = get_confusion_matrix(player1_gts, player1_preds, 6)\n",
    "plot_and_save_confusion_matrix(player1_cm, model, player1_labels, player1_mcc, title=\"Player 1 Overcooked Confusion Matrix\", fig_size=(12, 10))\n",
    "\n",
    "all_individual_gts = player0_gts + player1_gts\n",
    "all_individual_preds = player0_preds + player1_preds\n",
    "all_individual_cm, all_individual_mcc, all_individual_labels = get_confusion_matrix(all_individual_gts, all_individual_preds, 6)\n",
    "plot_and_save_confusion_matrix(all_individual_cm, model, all_individual_labels, all_individual_mcc, title=\"Individual Actions Overcooked Confusion Matrix\", fig_size=(12, 10))\n"
   ]
  },
  {
   "cell_type": "code",
   "execution_count": null,
   "id": "a984efe9",
   "metadata": {},
   "outputs": [],
   "source": [
    "precs, recs, f1s = get_classwise_metrics(all_preds, all_gt, 36)\n",
    "plot_and_save_joint_action_heatmaps(model, precs, recs, f1s)"
   ]
  }
 ],
 "metadata": {
  "kernelspec": {
   "display_name": "multinet",
   "language": "python",
   "name": "python3"
  },
  "language_info": {
   "codemirror_mode": {
    "name": "ipython",
    "version": 3
   },
   "file_extension": ".py",
   "mimetype": "text/x-python",
   "name": "python",
   "nbconvert_exporter": "python",
   "pygments_lexer": "ipython3",
   "version": "3.10.18"
  }
 },
 "nbformat": 4,
 "nbformat_minor": 5
}
